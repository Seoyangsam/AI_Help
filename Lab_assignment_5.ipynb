{
 "cells": [
  {
   "cell_type": "markdown",
   "metadata": {
    "deletable": false,
    "editable": false
   },
   "source": [
    "<div class=\"alert alert-block alert-success\">\n",
    "    <b>ARTIFICIAL INTELLIGENCE (E016330)</b> <br>\n",
    "ALEKSANDRA PIZURICA <br>\n",
    "GHENT UNIVERSITY <br>\n",
    "AY 2022/2023 <br>\n",
    "Assistent: Srdan Lazendic\n",
    "</div>"
   ]
  },
  {
   "cell_type": "markdown",
   "metadata": {},
   "source": [
    "# Lab assignment 5: CNNs and Autoencoders"
   ]
  },
  {
   "cell_type": "markdown",
   "metadata": {},
   "source": [
    "In this assignment we will first train a CNN for the classification problem and then an autoencoderencoder that learns representations of images of the `fashion_mnist` dataset. Finally, you will create a simple image retrieval system by using the trained autoencoder and the nearest-neighbors algorithm."
   ]
  },
  {
   "cell_type": "markdown",
   "metadata": {},
   "source": [
    "### Dataset `Fashion MNIST`\n",
    "\n",
    "This examples uses [Fashion MNIST](https://github.com/zalandoresearch/fashion-mnist) dataset which contains 70,000 grayscale images split into 10 categories. Each image contains one peace of clothing or footwear. \n",
    "Resolution of each image is $28 \\times 28$ pixels.\n",
    "\n",
    "<table>\n",
    "  <tr><td>\n",
    "    <img src=\"https://tensorflow.org/images/fashion-mnist-sprite.png\"\n",
    "         alt=\"Fashion MNIST sprite\"  width=\"600\">\n",
    "  </td></tr>\n",
    "  <tr><td align=\"center\">\n",
    "    <b>Image 1.</b> <a href=\"https://github.com/zalandoresearch/fashion-mnist\">Fashion-MNIST examples</a> (by Zalando, MIT License).<br/>&nbsp;\n",
    "  </td></tr>\n",
    "</table>\n",
    "\n",
    "Fashion MNIST is intended as a replacement for the traditional [MNIST](http://yann.lecun.com/exdb/mnist/) dataset that was previously often used as the first illustrative data set for classification (with images). `MNIST` contains images of handwritten numbers in a very similar format as previously described for `Fashion MNIST`.\n",
    "\n",
    "Fashion `MNIST` is a somewhat heavier set of data compared to `MNIST`, but both sets are extremely clean (no noise, deviations in the corners of the photo, relatively similar lighting), and solving the classification problem on them is not difficult.\n",
    "\n",
    "In this example, we will use $40000$ images to train the network, $20000$ images for the validation and the other $10000$ images to evaluate how accurately our network has classified the images.\n",
    "\n",
    "Since `Fashion MNIST` is a relatively well-known set that is often used, it is not uncommon for libraries to provide auxiliary functions for its download and use."
   ]
  },
  {
   "cell_type": "code",
   "execution_count": 56,
   "metadata": {},
   "outputs": [],
   "source": [
    "import numpy as np\n",
    "from matplotlib import pyplot as plt\n",
    "\n",
    "from sklearn import metrics\n",
    "\n",
    "import tensorflow as tf\n",
    "from tensorflow import keras\n",
    "\n",
    "from tensorflow.keras.datasets import fashion_mnist\n",
    "from tensorflow.keras import backend\n",
    "from tensorflow.keras import layers\n",
    "from tensorflow.keras.layers import Activation, Dense, Input, Reshape\n",
    "from tensorflow.keras.layers import Conv2D, Flatten, MaxPool2D, UpSampling2D\n",
    "from tensorflow.keras.models import Sequential\n",
    "from tensorflow.keras.models import Model"
   ]
  },
  {
   "cell_type": "markdown",
   "metadata": {},
   "source": [
    "**Question 1:** Using the `load_data` function from the `fashion_mnist` package, load images for the training set and the test set."
   ]
  },
  {
   "cell_type": "code",
   "execution_count": 2,
   "metadata": {
    "scrolled": true
   },
   "outputs": [],
   "source": [
    "# Load data set \n",
    "(x_train, y_train), (x_test, y_test) = fashion_mnist.load_data()"
   ]
  },
  {
   "cell_type": "code",
   "execution_count": 3,
   "metadata": {},
   "outputs": [
    {
     "name": "stdout",
     "output_type": "stream",
     "text": [
      "['T-shirt/top', 'Trouser', 'Pullover', 'Dress', 'Coat', 'Sandal', 'Shirt', 'Sneaker', 'Bag', 'Ankle boot']\n"
     ]
    }
   ],
   "source": [
    "class_names = ['T-shirt/top', 'Trouser', 'Pullover', 'Dress', 'Coat',\n",
    "               'Sandal', 'Shirt', 'Sneaker', 'Bag', 'Ankle boot']\n",
    "num_classes = len(class_names)\n",
    "print(class_names)"
   ]
  },
  {
   "cell_type": "markdown",
   "metadata": {},
   "source": [
    "**Question 2:** Select the first $40000$ images from the loaded set for training, and then the next $20000$ for validation."
   ]
  },
  {
   "cell_type": "code",
   "execution_count": 4,
   "metadata": {},
   "outputs": [],
   "source": [
    "x_val = x_train[40000:60000]\n",
    "y_val = y_train[40000:60000]"
   ]
  },
  {
   "cell_type": "code",
   "execution_count": 5,
   "metadata": {},
   "outputs": [],
   "source": [
    "x_train = x_train[:40000]\n",
    "y_train = y_train[:40000]"
   ]
  },
  {
   "cell_type": "markdown",
   "metadata": {},
   "source": [
    "**Question 3:** Transform the loaded images into the `float32` type, and then normalize them."
   ]
  },
  {
   "cell_type": "code",
   "execution_count": 7,
   "metadata": {},
   "outputs": [],
   "source": [
    "# Transform the images to float32 type\n",
    "x_train = x_train.astype('float32')\n",
    "x_val = x_val.astype('float32')\n",
    "x_test = x_test.astype('float32')"
   ]
  },
  {
   "cell_type": "code",
   "execution_count": 8,
   "metadata": {},
   "outputs": [],
   "source": [
    "# Normalize the images\n",
    "x_train /= 255\n",
    "x_val /= 255\n",
    "x_test /= 255"
   ]
  },
  {
   "cell_type": "markdown",
   "metadata": {},
   "source": [
    "## Part 1: CNN"
   ]
  },
  {
   "cell_type": "markdown",
   "metadata": {},
   "source": [
    "**Question 4:** Create a convolutional neural network with the following properties:\n",
    "\n",
    "- Sequential model consisting of convolutional and max pooling layers used alternately.\n",
    "- Three convolutional layers consist of  $32$, $64$ and $128$  kernels, respectively and they are all of size $3\\times 3$, with the  $\\mathrm{ReLU}$  activation function.\n",
    "- Each of the two max pooling layers is with the pool size  $2\\times 2$.\n",
    "- After the third convolutional layer use the `Flatten` layer.\n",
    "- Finally, add on top two fully connected layers with $128$ and $10$  neurons, with $\\mathrm{ReLU}$ and *softmax* activation functions, respectively."
   ]
  },
  {
   "cell_type": "code",
   "execution_count": 9,
   "metadata": {},
   "outputs": [
    {
     "name": "stderr",
     "output_type": "stream",
     "text": [
      "2022-12-21 13:52:47.586977: W tensorflow/compiler/xla/stream_executor/platform/default/dso_loader.cc:64] Could not load dynamic library 'libcuda.so.1'; dlerror: libcuda.so.1: cannot open shared object file: No such file or directory; LD_LIBRARY_PATH: /home/seoyangsam/catkin_ws/devel/lib:/opt/ros/noetic/lib\n",
      "2022-12-21 13:52:47.588252: W tensorflow/compiler/xla/stream_executor/cuda/cuda_driver.cc:265] failed call to cuInit: UNKNOWN ERROR (303)\n",
      "2022-12-21 13:52:47.588355: I tensorflow/compiler/xla/stream_executor/cuda/cuda_diagnostics.cc:156] kernel driver does not appear to be running on this host (ubuntu): /proc/driver/nvidia/version does not exist\n",
      "2022-12-21 13:52:47.591879: I tensorflow/core/platform/cpu_feature_guard.cc:193] This TensorFlow binary is optimized with oneAPI Deep Neural Network Library (oneDNN) to use the following CPU instructions in performance-critical operations:  AVX2 AVX512F FMA\n",
      "To enable them in other operations, rebuild TensorFlow with the appropriate compiler flags.\n"
     ]
    }
   ],
   "source": [
    "model = Sequential()\n",
    "\n",
    "model.add(Conv2D(32, (3, 3), activation='relu', input_shape=(28, 28, 1)))\n",
    "model.add(MaxPool2D((2, 2)))\n",
    "\n",
    "model.add(Conv2D(64, (3, 3), activation='relu'))\n",
    "model.add(MaxPool2D((2, 2)))\n",
    "\n",
    "model.add(Conv2D(128, (3, 3), activation='relu'))\n",
    "model.add(MaxPool2D((2, 2)))\n",
    "\n",
    "model.add(Flatten())\n",
    "\n",
    "model.add(Dense(128, activation='relu'))\n",
    "model.add(Dense(10, activation='softmax'))\n"
   ]
  },
  {
   "cell_type": "markdown",
   "metadata": {},
   "source": [
    "**Question 5:** Train the previously defined network in $10$ epochs with the batch size equal to $32$. For the error, use `categorical cross entropy`, other parameters you may choose arbitrarily. Create a textual summary of your model."
   ]
  },
  {
   "cell_type": "code",
   "execution_count": 10,
   "metadata": {
    "scrolled": true
   },
   "outputs": [],
   "source": [
    "model.compile(optimizer='adam', loss='categorical_crossentropy', metrics=['accuracy'])"
   ]
  },
  {
   "cell_type": "code",
   "execution_count": 11,
   "metadata": {},
   "outputs": [],
   "source": [
    "train_labels_cat = tf.keras.utils.to_categorical(y_train, num_classes)\n",
    "val_labels_cat = tf.keras.utils.to_categorical(y_val, num_classes)\n",
    "test_labels_cat = tf.keras.utils.to_categorical(y_test, num_classes)"
   ]
  },
  {
   "cell_type": "code",
   "execution_count": 12,
   "metadata": {},
   "outputs": [
    {
     "name": "stdout",
     "output_type": "stream",
     "text": [
      "Epoch 1/10\n",
      "1250/1250 [==============================] - 23s 17ms/step - loss: 0.6267 - accuracy: 0.7706 - val_loss: 0.4555 - val_accuracy: 0.8327\n",
      "Epoch 2/10\n",
      "1250/1250 [==============================] - 32s 25ms/step - loss: 0.4181 - accuracy: 0.8464 - val_loss: 0.4070 - val_accuracy: 0.8498\n",
      "Epoch 3/10\n",
      "1250/1250 [==============================] - 32s 25ms/step - loss: 0.3538 - accuracy: 0.8710 - val_loss: 0.3706 - val_accuracy: 0.8637\n",
      "Epoch 4/10\n",
      "1250/1250 [==============================] - 31s 25ms/step - loss: 0.3129 - accuracy: 0.8844 - val_loss: 0.3316 - val_accuracy: 0.8799\n",
      "Epoch 5/10\n",
      "1250/1250 [==============================] - 30s 24ms/step - loss: 0.2793 - accuracy: 0.8965 - val_loss: 0.3293 - val_accuracy: 0.8803\n",
      "Epoch 6/10\n",
      "1250/1250 [==============================] - 32s 25ms/step - loss: 0.2520 - accuracy: 0.9062 - val_loss: 0.3213 - val_accuracy: 0.8846\n",
      "Epoch 7/10\n",
      "1250/1250 [==============================] - 32s 25ms/step - loss: 0.2317 - accuracy: 0.9128 - val_loss: 0.3112 - val_accuracy: 0.8925\n",
      "Epoch 8/10\n",
      "1250/1250 [==============================] - 31s 25ms/step - loss: 0.2131 - accuracy: 0.9208 - val_loss: 0.2963 - val_accuracy: 0.8939\n",
      "Epoch 9/10\n",
      "1250/1250 [==============================] - 30s 24ms/step - loss: 0.1906 - accuracy: 0.9292 - val_loss: 0.3180 - val_accuracy: 0.8893\n",
      "Epoch 10/10\n",
      "1250/1250 [==============================] - 33s 26ms/step - loss: 0.1737 - accuracy: 0.9341 - val_loss: 0.3101 - val_accuracy: 0.8952\n"
     ]
    }
   ],
   "source": [
    "epochs = 10\n",
    "batch_size = 32\n",
    "\n",
    "history = model.fit(x_train, train_labels_cat, epochs = epochs,\n",
    "                    batch_size = batch_size,  validation_data = (x_val, val_labels_cat))"
   ]
  },
  {
   "cell_type": "code",
   "execution_count": 13,
   "metadata": {},
   "outputs": [
    {
     "name": "stdout",
     "output_type": "stream",
     "text": [
      "Model: \"sequential\"\n",
      "_________________________________________________________________\n",
      " Layer (type)                Output Shape              Param #   \n",
      "=================================================================\n",
      " conv2d (Conv2D)             (None, 26, 26, 32)        320       \n",
      "                                                                 \n",
      " max_pooling2d (MaxPooling2D  (None, 13, 13, 32)       0         \n",
      " )                                                               \n",
      "                                                                 \n",
      " conv2d_1 (Conv2D)           (None, 11, 11, 64)        18496     \n",
      "                                                                 \n",
      " max_pooling2d_1 (MaxPooling  (None, 5, 5, 64)         0         \n",
      " 2D)                                                             \n",
      "                                                                 \n",
      " conv2d_2 (Conv2D)           (None, 3, 3, 128)         73856     \n",
      "                                                                 \n",
      " max_pooling2d_2 (MaxPooling  (None, 1, 1, 128)        0         \n",
      " 2D)                                                             \n",
      "                                                                 \n",
      " flatten (Flatten)           (None, 128)               0         \n",
      "                                                                 \n",
      " dense (Dense)               (None, 128)               16512     \n",
      "                                                                 \n",
      " dense_1 (Dense)             (None, 10)                1290      \n",
      "                                                                 \n",
      "=================================================================\n",
      "Total params: 110,474\n",
      "Trainable params: 110,474\n",
      "Non-trainable params: 0\n",
      "_________________________________________________________________\n"
     ]
    }
   ],
   "source": [
    "# Create a textual summary of our model.\n",
    "model.summary()"
   ]
  },
  {
   "cell_type": "markdown",
   "metadata": {},
   "source": [
    "**Question 6:** \n",
    "- Plot the accuracy on the training and validation datasets over training epochs. Add a legend.\n",
    "- What do you observe from the obtained plot?\n",
    "- How could you improve the previous model? Explain shortly!"
   ]
  },
  {
   "cell_type": "code",
   "execution_count": 19,
   "metadata": {},
   "outputs": [
    {
     "name": "stdout",
     "output_type": "stream",
     "text": [
      "313/313 - 2s - loss: 0.3545 - accuracy: 0.8875 - 2s/epoch - 5ms/step\n"
     ]
    },
    {
     "data": {
      "image/png": "[encoded data removed]",
      "text/plain": [
       "<Figure size 640x480 with 1 Axes>"
      ]
     },
     "metadata": {},
     "output_type": "display_data"
    }
   ],
   "source": [
    "# Plot the accuracy on the training and validation datasets over training epochs\n",
    "plt.plot(history.history['accuracy'], label='accuracy')\n",
    "plt.plot(history.history['val_accuracy'], label = 'val_accuracy')\n",
    "plt.xlabel('Epoch')\n",
    "plt.ylabel('Accuracy')\n",
    "plt.ylim([0.5, 1])\n",
    "plt.legend(loc='lower right')\n",
    "\n",
    "test_loss, test_acc = model.evaluate(x_test, test_labels_cat, verbose=2)"
   ]
  },
  {
   "cell_type": "markdown",
   "metadata": {},
   "source": [
    "The accuracy on training is lower than validation accuracy at the firest epoch but since the second epoch it became higher. So our CNN is initially underfitting at the beginning. "
   ]
  },
  {
   "cell_type": "markdown",
   "metadata": {},
   "source": [
    "To improve the model:\n",
    "\n",
    "Fine-tune the model's hyperparameters: You can also try adjusting the hyperparameters of the model, such as the learning rate, the batch size, and the number of epochs, to see if this improves the model's performance.\n",
    "\n",
    "Use data augmentation: Data augmentation involves generating additional training data by applying random transformations to the existing data. This can help the model learn more robust features and improve its generalization to unseen data.\n",
    "\n",
    "Add regularization: Regularization techniques, such as dropout and weight decay, can help prevent overfitting by adding constraints to the model's parameters.\n",
    "\n",
    "Use a deeper or more complex model: A deeper or more complex model may be able to learn more about the patterns in the data and achieve higher accuracy. \n",
    "\n",
    "Try a different optimization algorithm: Different optimization algorithms can have different effects on the model's performance. \n",
    "\n",
    "Experiment with different preprocessing techniques: Preprocessing the data, such as normalizing or standardizing the inputs, can have a significant impact on the model's performance. "
   ]
  },
  {
   "cell_type": "markdown",
   "metadata": {},
   "source": [
    "## Part 2: Autoencoder"
   ]
  },
  {
   "cell_type": "markdown",
   "metadata": {},
   "source": [
    "**Question 7:** Create an autoencoder network with the following properties:\n",
    "- the `encoder` consists of $3$ convolutional and $3$ max pooling layers used alternately\n",
    "    - convolutional layers consist of $64$, $32$ and $16$ kernels, respectively, of size $3\\times 3$, and with the $\\mathrm{ReLU}$ activation function \n",
    "    - each max pooling layer is with the pool size $2\\times 2$\n",
    "- the `decoder` consists of $3$ convolutional and $3$ up sampling layers used alternately\n",
    "    - convolutional layers consist of $16$, $32$ and $64$ kernels, respectively, of size $3\\times 3$, and with the $\\mathrm{ReLU}$ activation function at each layer, except at the last (output) layer where the *sigmoid* activation function is used\n",
    "    - each up sampling layer is with the usampling factors of size $2\\times 2$.\n",
    "\n",
    "Use the `Adam` optimizer and `MSE` error as a loss function. \n",
    "\n",
    "**Note:** Name the output of the final max pooling layer, i.e., the model that produces the latent representation, `encoder` (this will be useful for the second part of the assignment)."
   ]
  },
  {
   "cell_type": "code",
   "execution_count": 45,
   "metadata": {},
   "outputs": [],
   "source": [
    "# Load data set \n",
    "(X_train, _), (X_test, _) = fashion_mnist.load_data()"
   ]
  },
  {
   "cell_type": "code",
   "execution_count": 48,
   "metadata": {},
   "outputs": [
    {
     "name": "stdout",
     "output_type": "stream",
     "text": [
      "28\n"
     ]
    }
   ],
   "source": [
    "image_size = X_train.shape[1]\n",
    "print(image_size)"
   ]
  },
  {
   "cell_type": "code",
   "execution_count": 49,
   "metadata": {},
   "outputs": [],
   "source": [
    "X_train = np.reshape(X_train, (-1, image_size, image_size, 1))\n",
    "X_train = X_train.astype('float32') / 255\n",
    "\n",
    "X_test = np.reshape(X_test, (-1, image_size, image_size, 1))\n",
    "X_test = X_test.astype('float32') / 255"
   ]
  },
  {
   "cell_type": "code",
   "execution_count": 50,
   "metadata": {},
   "outputs": [
    {
     "data": {
      "text/plain": [
       "(60000, 28, 28, 1)"
      ]
     },
     "execution_count": 50,
     "metadata": {},
     "output_type": "execute_result"
    }
   ],
   "source": [
    "X_train.shape"
   ]
  },
  {
   "cell_type": "code",
   "execution_count": 51,
   "metadata": {},
   "outputs": [
    {
     "data": {
      "text/plain": [
       "(10000, 28, 28, 1)"
      ]
     },
     "execution_count": 51,
     "metadata": {},
     "output_type": "execute_result"
    }
   ],
   "source": [
    "X_test.shape"
   ]
  },
  {
   "cell_type": "code",
   "execution_count": 52,
   "metadata": {},
   "outputs": [],
   "source": [
    "noise = np.random.normal(loc=0.5, scale=0.5, size=X_train.shape)\n",
    "X_train_noisy = X_train + noise\n",
    "\n",
    "noise = np.random.normal(loc=0.5, scale=0.5, size=X_test.shape)\n",
    "X_test_noisy = X_test + noise\n",
    "\n",
    "# We will cut off the values that fell out of the range [0,1] after adding the noise\n",
    "X_train_noisy = np.clip(X_train_noisy, 0., 1.)\n",
    "X_test_noisy = np.clip(X_test_noisy, 0., 1.)"
   ]
  },
  {
   "cell_type": "code",
   "execution_count": 78,
   "metadata": {},
   "outputs": [
    {
     "name": "stdout",
     "output_type": "stream",
     "text": [
      "Model: \"encoder\"\n",
      "_________________________________________________________________\n",
      " Layer (type)                Output Shape              Param #   \n",
      "=================================================================\n",
      " encoder_input (InputLayer)  [(None, 28, 28, 1)]       0         \n",
      "                                                                 \n",
      " conv2d_111 (Conv2D)         (None, 28, 28, 64)        640       \n",
      "                                                                 \n",
      " max_pooling2d_51 (MaxPoolin  (None, 14, 14, 64)       0         \n",
      " g2D)                                                            \n",
      "                                                                 \n",
      " conv2d_112 (Conv2D)         (None, 14, 14, 32)        18464     \n",
      "                                                                 \n",
      " max_pooling2d_52 (MaxPoolin  (None, 7, 7, 32)         0         \n",
      " g2D)                                                            \n",
      "                                                                 \n",
      " conv2d_113 (Conv2D)         (None, 7, 7, 16)          4624      \n",
      "                                                                 \n",
      " max_pooling2d_53 (MaxPoolin  (None, 3, 3, 16)         0         \n",
      " g2D)                                                            \n",
      "                                                                 \n",
      " flatten_10 (Flatten)        (None, 144)               0         \n",
      "                                                                 \n",
      " latent_vector (Dense)       (None, 16)                2320      \n",
      "                                                                 \n",
      "=================================================================\n",
      "Total params: 26,048\n",
      "Trainable params: 26,048\n",
      "Non-trainable params: 0\n",
      "_________________________________________________________________\n"
     ]
    }
   ],
   "source": [
    "# Define the input shape\n",
    "input_shape = (28, 28, 1)\n",
    "latent_dim = 16\n",
    "\n",
    "# Define the number of kernels for each convolutional layer\n",
    "encoder_conv_kernels = [64, 32, 16]\n",
    "decoder_conv_kernels = [16, 32, 64]\n",
    "\n",
    "# Define the kernel size for all convolutional layers\n",
    "kernel_size = (3, 3)\n",
    "\n",
    "# Define the pool size for all max pooling layers\n",
    "pool_size = (2, 2)\n",
    "\n",
    "# Define the up sampling factors for all up sampling layers\n",
    "up_sampling_factors = (2, 2)\n",
    "\n",
    "# Define the encoder model\n",
    "inputs = Input(shape=input_shape, name='encoder_input')\n",
    "x = inputs\n",
    "\n",
    "for filters in encoder_conv_kernels:\n",
    "    x = Conv2D(filters=filters,\n",
    "               kernel_size=kernel_size,\n",
    "               activation='relu',\n",
    "               padding='same')(x)\n",
    "    x = MaxPool2D(pool_size=pool_size)(x)\n",
    "\n",
    "# Read and preserve the dimensions of the tensor\n",
    "shape = backend.int_shape(x)\n",
    "\n",
    "# Then we have a flattening layer\n",
    "x = Flatten()(x)\n",
    "\n",
    "latent_outputs = Dense(latent_dim, name='latent_vector')(x)\n",
    "\n",
    "# Define the encoder model\n",
    "encoder = Model(inputs=inputs, outputs=latent_outputs, name='encoder')\n",
    "encoder.summary()"
   ]
  },
  {
   "cell_type": "code",
   "execution_count": 79,
   "metadata": {},
   "outputs": [
    {
     "data": {
      "text/plain": [
       "(None, 3, 3, 16)"
      ]
     },
     "execution_count": 79,
     "metadata": {},
     "output_type": "execute_result"
    }
   ],
   "source": [
    "shape"
   ]
  },
  {
   "cell_type": "code",
   "execution_count": 80,
   "metadata": {},
   "outputs": [
    {
     "name": "stdout",
     "output_type": "stream",
     "text": [
      "Model: \"decoder\"\n",
      "______________________________________________________________________________________________________________\n",
      " Layer (type)                                    Output Shape                                Param #          \n",
      "==============================================================================================================\n",
      " decoder_input (InputLayer)                      [(None, 16)]                                0                \n",
      "                                                                                                              \n",
      " dense_11 (Dense)                                (None, 144)                                 2448             \n",
      "                                                                                                              \n",
      " reshape_12 (Reshape)                            (None, 3, 3, 16)                            0                \n",
      "                                                                                                              \n",
      " conv2d_114 (Conv2D)                             (None, 3, 3, 64)                            9280             \n",
      "                                                                                                              \n",
      " up_sampling2d_48 (UpSampling2D)                 (None, 6, 6, 64)                            0                \n",
      "                                                                                                              \n",
      " conv2d_115 (Conv2D)                             (None, 6, 6, 32)                            18464            \n",
      "                                                                                                              \n",
      " up_sampling2d_49 (UpSampling2D)                 (None, 12, 12, 32)                          0                \n",
      "                                                                                                              \n",
      " conv2d_116 (Conv2D)                             (None, 12, 12, 16)                          4624             \n",
      "                                                                                                              \n",
      " up_sampling2d_50 (UpSampling2D)                 (None, 24, 24, 16)                          0                \n",
      "                                                                                                              \n",
      " conv2d_117 (Conv2D)                             (None, 24, 24, 1)                           145              \n",
      "                                                                                                              \n",
      " decoder_output (Activation)                     (None, 24, 24, 1)                           0                \n",
      "                                                                                                              \n",
      "==============================================================================================================\n",
      "Total params: 34,961\n",
      "Trainable params: 34,961\n",
      "Non-trainable params: 0\n",
      "______________________________________________________________________________________________________________\n"
     ]
    }
   ],
   "source": [
    "# Define the decoder model\n",
    "# First we have the input layer\n",
    "latent_inputs = Input(shape=(latent_dim,), name='decoder_input')\n",
    "x = Dense(shape[1] * shape[2] * shape[3])(latent_inputs)\n",
    "x = Reshape((shape[1], shape[2], shape[3]))(x)\n",
    "\n",
    "for filters in decoder_conv_kernels[::-1]:\n",
    "    x = Conv2D(filters=filters,\n",
    "               kernel_size=kernel_size,\n",
    "               activation='relu',\n",
    "               padding='same')(x)\n",
    "    x = UpSampling2D(size=up_sampling_factors)(x)\n",
    "\n",
    "# Define the output layer with sigmoid activation function\n",
    "# then we add one more convolutional layer to control the channel dimension   \n",
    "x = Conv2D(filters=1,\n",
    "                    kernel_size=kernel_size,\n",
    "                    padding='same')(x)\n",
    "\n",
    "# and one activation later with the sigmoid activation function\n",
    "outputs = Activation('sigmoid', name='decoder_output')(x)\n",
    "\n",
    "# Define the decoder model\n",
    "decoder = Model(inputs=latent_inputs, outputs=outputs, name='decoder')\n",
    "decoder.summary(line_length=110)"
   ]
  },
  {
   "cell_type": "code",
   "execution_count": 69,
   "metadata": {},
   "outputs": [
    {
     "data": {
      "text/plain": [
       "<KerasTensor: shape=(None, 3, 3, 16) dtype=float32 (created by layer 'reshape_9')>"
      ]
     },
     "execution_count": 69,
     "metadata": {},
     "output_type": "execute_result"
    }
   ],
   "source": []
  },
  {
   "cell_type": "code",
   "execution_count": 67,
   "metadata": {},
   "outputs": [
    {
     "ename": "SyntaxError",
     "evalue": "unexpected EOF while parsing (734568692.py, line 2)",
     "output_type": "error",
     "traceback": [
      "\u001b[0;36m  Cell \u001b[0;32mIn [67], line 2\u001b[0;36m\u001b[0m\n\u001b[0;31m    autoencoder = Model(inputs=inputs, outputs=decoder(encoder(inputs)), name='autoencoder'\u001b[0m\n\u001b[0m                                                                                           ^\u001b[0m\n\u001b[0;31mSyntaxError\u001b[0m\u001b[0;31m:\u001b[0m unexpected EOF while parsing\n"
     ]
    }
   ],
   "source": [
    "# Define the autoencoder model\n",
    "autoencoder = Model(inputs=inputs, outputs=decoder(encoder(inputs)), name='autoencoder'\n"
   ]
  },
  {
   "cell_type": "code",
   "execution_count": null,
   "metadata": {},
   "outputs": [],
   "source": [
    "outputs = Conv2D(filters=1,\n",
    "                 kernel_size=kernel_size,\n",
    "                 activation='sigmoid',\n",
    "                 padding='same',\n",
    "                 name='decoder_output')(x)"
   ]
  },
  {
   "cell_type": "code",
   "execution_count": null,
   "metadata": {},
   "outputs": [],
   "source": [
    "autoencoder.summary()"
   ]
  },
  {
   "cell_type": "code",
   "execution_count": 42,
   "metadata": {},
   "outputs": [],
   "source": [
    "# Compile the model with the Adam optimizer and MSE loss function\n",
    "autoencoder.compile(loss='mse', optimizer='adam')"
   ]
  },
  {
   "cell_type": "markdown",
   "metadata": {},
   "source": [
    "**Question 8:** Train the autoencoder over $10$ epochs. Set the `shuffle` parameter to True. Set the `batch_size` to $128$."
   ]
  },
  {
   "cell_type": "code",
   "execution_count": 53,
   "metadata": {},
   "outputs": [
    {
     "name": "stdout",
     "output_type": "stream",
     "text": [
      "Epoch 1/10\n"
     ]
    },
    {
     "name": "stderr",
     "output_type": "stream",
     "text": [
      "2022-12-21 16:57:35.364245: W tensorflow/tsl/framework/cpu_allocator_impl.cc:82] Allocation of 188160000 exceeds 10% of free system memory.\n",
      "2022-12-21 16:57:35.930559: W tensorflow/tsl/framework/cpu_allocator_impl.cc:82] Allocation of 188160000 exceeds 10% of free system memory.\n"
     ]
    },
    {
     "ename": "ValueError",
     "evalue": "in user code:\n\n    File \"/home/seoyangsam/.local/lib/python3.8/site-packages/keras/engine/training.py\", line 1249, in train_function  *\n        return step_function(self, iterator)\n    File \"/home/seoyangsam/.local/lib/python3.8/site-packages/keras/engine/training.py\", line 1233, in step_function  **\n        outputs = model.distribute_strategy.run(run_step, args=(data,))\n    File \"/home/seoyangsam/.local/lib/python3.8/site-packages/keras/engine/training.py\", line 1222, in run_step  **\n        outputs = model.train_step(data)\n    File \"/home/seoyangsam/.local/lib/python3.8/site-packages/keras/engine/training.py\", line 1023, in train_step\n        y_pred = self(x, training=True)\n    File \"/home/seoyangsam/.local/lib/python3.8/site-packages/keras/utils/traceback_utils.py\", line 70, in error_handler\n        raise e.with_traceback(filtered_tb) from None\n    File \"/home/seoyangsam/.local/lib/python3.8/site-packages/keras/engine/input_spec.py\", line 295, in assert_input_compatibility\n        raise ValueError(\n\n    ValueError: Exception encountered when calling layer 'autoencoder' (type Functional).\n    \n    Input 0 of layer \"decoder\" is incompatible with the layer: expected shape=(None, 3, 3, 16), found shape=(None, 144)\n    \n    Call arguments received by layer 'autoencoder' (type Functional):\n      • inputs=tf.Tensor(shape=(None, 28, 28, 1), dtype=float32)\n      • training=True\n      • mask=None\n",
     "output_type": "error",
     "traceback": [
      "\u001b[0;31m---------------------------------------------------------------------------\u001b[0m",
      "\u001b[0;31mValueError\u001b[0m                                Traceback (most recent call last)",
      "Cell \u001b[0;32mIn [53], line 1\u001b[0m\n\u001b[0;32m----> 1\u001b[0m history \u001b[38;5;241m=\u001b[39m \u001b[43mautoencoder\u001b[49m\u001b[38;5;241;43m.\u001b[39;49m\u001b[43mfit\u001b[49m\u001b[43m(\u001b[49m\u001b[43mX_train_noisy\u001b[49m\u001b[43m,\u001b[49m\n\u001b[1;32m      2\u001b[0m \u001b[43m                \u001b[49m\u001b[43mX_train\u001b[49m\u001b[43m,\u001b[49m\u001b[43m \u001b[49m\u001b[43mepochs\u001b[49m\u001b[38;5;241;43m=\u001b[39;49m\u001b[38;5;241;43m10\u001b[39;49m\u001b[43m,\u001b[49m\u001b[43m \u001b[49m\u001b[43mshuffle\u001b[49m\u001b[38;5;241;43m=\u001b[39;49m\u001b[38;5;28;43;01mTrue\u001b[39;49;00m\u001b[43m,\u001b[49m\u001b[43m \u001b[49m\u001b[43mbatch_size\u001b[49m\u001b[38;5;241;43m=\u001b[39;49m\u001b[38;5;241;43m128\u001b[39;49m\u001b[43m,\u001b[49m\n\u001b[1;32m      3\u001b[0m \u001b[43m                    \u001b[49m\u001b[43mvalidation_data\u001b[49m\u001b[38;5;241;43m=\u001b[39;49m\u001b[43m(\u001b[49m\u001b[43mX_test_noisy\u001b[49m\u001b[43m,\u001b[49m\u001b[43m \u001b[49m\u001b[43mX_test\u001b[49m\u001b[43m)\u001b[49m\u001b[43m)\u001b[49m\n",
      "File \u001b[0;32m~/.local/lib/python3.8/site-packages/keras/utils/traceback_utils.py:70\u001b[0m, in \u001b[0;36mfilter_traceback.<locals>.error_handler\u001b[0;34m(*args, **kwargs)\u001b[0m\n\u001b[1;32m     67\u001b[0m     filtered_tb \u001b[38;5;241m=\u001b[39m _process_traceback_frames(e\u001b[38;5;241m.\u001b[39m__traceback__)\n\u001b[1;32m     68\u001b[0m     \u001b[38;5;66;03m# To get the full stack trace, call:\u001b[39;00m\n\u001b[1;32m     69\u001b[0m     \u001b[38;5;66;03m# `tf.debugging.disable_traceback_filtering()`\u001b[39;00m\n\u001b[0;32m---> 70\u001b[0m     \u001b[38;5;28;01mraise\u001b[39;00m e\u001b[38;5;241m.\u001b[39mwith_traceback(filtered_tb) \u001b[38;5;28;01mfrom\u001b[39;00m \u001b[38;5;28mNone\u001b[39m\n\u001b[1;32m     71\u001b[0m \u001b[38;5;28;01mfinally\u001b[39;00m:\n\u001b[1;32m     72\u001b[0m     \u001b[38;5;28;01mdel\u001b[39;00m filtered_tb\n",
      "File \u001b[0;32m/tmp/__autograph_generated_filegdfjd6g2.py:15\u001b[0m, in \u001b[0;36mouter_factory.<locals>.inner_factory.<locals>.tf__train_function\u001b[0;34m(iterator)\u001b[0m\n\u001b[1;32m     13\u001b[0m \u001b[38;5;28;01mtry\u001b[39;00m:\n\u001b[1;32m     14\u001b[0m     do_return \u001b[38;5;241m=\u001b[39m \u001b[38;5;28;01mTrue\u001b[39;00m\n\u001b[0;32m---> 15\u001b[0m     retval_ \u001b[38;5;241m=\u001b[39m ag__\u001b[38;5;241m.\u001b[39mconverted_call(ag__\u001b[38;5;241m.\u001b[39mld(step_function), (ag__\u001b[38;5;241m.\u001b[39mld(\u001b[38;5;28mself\u001b[39m), ag__\u001b[38;5;241m.\u001b[39mld(iterator)), \u001b[38;5;28;01mNone\u001b[39;00m, fscope)\n\u001b[1;32m     16\u001b[0m \u001b[38;5;28;01mexcept\u001b[39;00m:\n\u001b[1;32m     17\u001b[0m     do_return \u001b[38;5;241m=\u001b[39m \u001b[38;5;28;01mFalse\u001b[39;00m\n",
      "\u001b[0;31mValueError\u001b[0m: in user code:\n\n    File \"/home/seoyangsam/.local/lib/python3.8/site-packages/keras/engine/training.py\", line 1249, in train_function  *\n        return step_function(self, iterator)\n    File \"/home/seoyangsam/.local/lib/python3.8/site-packages/keras/engine/training.py\", line 1233, in step_function  **\n        outputs = model.distribute_strategy.run(run_step, args=(data,))\n    File \"/home/seoyangsam/.local/lib/python3.8/site-packages/keras/engine/training.py\", line 1222, in run_step  **\n        outputs = model.train_step(data)\n    File \"/home/seoyangsam/.local/lib/python3.8/site-packages/keras/engine/training.py\", line 1023, in train_step\n        y_pred = self(x, training=True)\n    File \"/home/seoyangsam/.local/lib/python3.8/site-packages/keras/utils/traceback_utils.py\", line 70, in error_handler\n        raise e.with_traceback(filtered_tb) from None\n    File \"/home/seoyangsam/.local/lib/python3.8/site-packages/keras/engine/input_spec.py\", line 295, in assert_input_compatibility\n        raise ValueError(\n\n    ValueError: Exception encountered when calling layer 'autoencoder' (type Functional).\n    \n    Input 0 of layer \"decoder\" is incompatible with the layer: expected shape=(None, 3, 3, 16), found shape=(None, 144)\n    \n    Call arguments received by layer 'autoencoder' (type Functional):\n      • inputs=tf.Tensor(shape=(None, 28, 28, 1), dtype=float32)\n      • training=True\n      • mask=None\n"
     ]
    }
   ],
   "source": [
    "history = autoencoder.fit(X_train_noisy,\n",
    "                X_train, epochs=10, shuffle=True, batch_size=128,\n",
    "                    validation_data=(X_test_noisy, X_test))"
   ]
  },
  {
   "cell_type": "markdown",
   "metadata": {},
   "source": [
    "**Question 9:** Plot loss on the training and validation datasets over the training epochs. Add a legend to your plot."
   ]
  },
  {
   "cell_type": "code",
   "execution_count": null,
   "metadata": {},
   "outputs": [],
   "source": []
  },
  {
   "cell_type": "markdown",
   "metadata": {},
   "source": [
    "**Question 10:** Show for an arbitrary image of the test set how the autoencoder works. In other words, plot an arbitrary original and  predicted image from the test set."
   ]
  },
  {
   "cell_type": "code",
   "execution_count": null,
   "metadata": {},
   "outputs": [],
   "source": []
  },
  {
   "cell_type": "code",
   "execution_count": null,
   "metadata": {},
   "outputs": [],
   "source": []
  },
  {
   "cell_type": "code",
   "execution_count": null,
   "metadata": {},
   "outputs": [],
   "source": []
  },
  {
   "cell_type": "code",
   "execution_count": null,
   "metadata": {},
   "outputs": [],
   "source": []
  },
  {
   "cell_type": "markdown",
   "metadata": {},
   "source": [
    "**Question 11:** Calculate the loss for the autoencoder on the test set."
   ]
  },
  {
   "cell_type": "code",
   "execution_count": null,
   "metadata": {},
   "outputs": [],
   "source": []
  },
  {
   "cell_type": "markdown",
   "metadata": {},
   "source": [
    "Now, we will use the learned autoencoder for **similar image retrieval** task. More precisely, we can compute the distance between the latent-space vectors to look for similar images. Naturally, the smaller the distance, the more visually similar two images are. \n",
    "\n",
    "Your goal is to create a very simple image retrieval system by using the trained autoencoder and the [nearest-neighbors](https://scikit-learn.org/stable/modules/generated/sklearn.neighbors.NearestNeighbors.html) algorithm."
   ]
  },
  {
   "cell_type": "markdown",
   "metadata": {},
   "source": [
    "**Question 12:** \n",
    "    \n",
    "- Extract the encoder part of your autoencoder model and save it in the folder as `encoder.h5`.\n",
    "- Fit the encoder part on your test set and reshape the output in order to obtain the latent space vectors.\n",
    "- Choose an arbitrary query image from the test set."
   ]
  },
  {
   "cell_type": "code",
   "execution_count": null,
   "metadata": {},
   "outputs": [],
   "source": []
  },
  {
   "cell_type": "code",
   "execution_count": null,
   "metadata": {},
   "outputs": [],
   "source": []
  },
  {
   "cell_type": "code",
   "execution_count": null,
   "metadata": {},
   "outputs": [],
   "source": []
  },
  {
   "cell_type": "code",
   "execution_count": null,
   "metadata": {},
   "outputs": [],
   "source": []
  },
  {
   "cell_type": "code",
   "execution_count": null,
   "metadata": {},
   "outputs": [],
   "source": []
  },
  {
   "cell_type": "code",
   "execution_count": null,
   "metadata": {},
   "outputs": [],
   "source": []
  },
  {
   "cell_type": "code",
   "execution_count": null,
   "metadata": {},
   "outputs": [],
   "source": []
  },
  {
   "cell_type": "code",
   "execution_count": null,
   "metadata": {},
   "outputs": [],
   "source": []
  },
  {
   "cell_type": "markdown",
   "metadata": {},
   "source": [
    "**Question 13:** \n",
    "- Fit the NN algorithm to the encoded test set in order to obtain distances and indices of the data.\n",
    "- Find the $10$ closest images to the encoded query image.\n",
    "- Plot the obtained $10$ closest images."
   ]
  },
  {
   "cell_type": "code",
   "execution_count": null,
   "metadata": {},
   "outputs": [],
   "source": [
    "from sklearn.neighbors import NearestNeighbors"
   ]
  },
  {
   "cell_type": "code",
   "execution_count": null,
   "metadata": {},
   "outputs": [],
   "source": []
  },
  {
   "cell_type": "code",
   "execution_count": null,
   "metadata": {},
   "outputs": [],
   "source": []
  },
  {
   "cell_type": "code",
   "execution_count": null,
   "metadata": {},
   "outputs": [],
   "source": []
  },
  {
   "cell_type": "code",
   "execution_count": null,
   "metadata": {},
   "outputs": [],
   "source": []
  },
  {
   "cell_type": "code",
   "execution_count": null,
   "metadata": {},
   "outputs": [],
   "source": []
  }
 ],
 "metadata": {
  "kernelspec": {
   "display_name": "Python 3 (ipykernel)",
   "language": "python",
   "name": "python3"
  },
  "language_info": {
   "codemirror_mode": {
    "name": "ipython",
    "version": 3
   },
   "file_extension": ".py",
   "mimetype": "text/x-python",
   "name": "python",
   "nbconvert_exporter": "python",
   "pygments_lexer": "ipython3",
   "version": "3.8.10"
  }
 },
 "nbformat": 4,
 "nbformat_minor": 4
}
