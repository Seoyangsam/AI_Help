{
 "cells": [
  {
   "cell_type": "markdown",
   "metadata": {},
   "source": [
    "# Lab assignment 2: Breadth first search"
   ]
  },
  {
   "cell_type": "markdown",
   "metadata": {},
   "source": [
    "It is the year $2119$. The planets of the solar system are divided between two fractions of humans - Earthlings and Martians. The Earth spacecraft was sent to the edge of the Solar System to count the asteroids that threaten to collide with Earth. As Earthlings do not want the Martians to intercept the information, the spacecraft sends the data in encrypted form as a string of $8$ characters. Encryption is performed by sub-string inversions, and the smallest number of inversions required to go from a message character string to a sorted character string is a secret message."
   ]
  },
  {
   "cell_type": "markdown",
   "metadata": {},
   "source": [
    "**Example:**\n",
    "\n",
    "$A~B~C~D~\\vert~H~G~F~E~\\vert~\\rightarrow~A~B~C~D~\\vert~E~F~G~H~\\vert$\n",
    "\n",
    "The minimum number of inversions is $1$, so the secret message is $1$."
   ]
  },
  {
   "cell_type": "markdown",
   "metadata": {},
   "source": [
    "Write a program that uses `Breadth First Search` strategy to reveal a secret message, i.e., the least number of inversions needed to get a sorted character string from the received encrypted message."
   ]
  },
  {
   "cell_type": "markdown",
   "metadata": {},
   "source": [
    "**Input:**\n",
    " $H~  D~\\vert~ F~  G~  A~\\vert~ E~  B~  C$\n",
    "\n",
    "**Inversions (4):**\n",
    "$$\\vert H~  D~  A~\\vert~ G~  F~  E~  B~  C~\\\\\n",
    " ~A ~ D ~\\vert H~  G~  F~  E~  B~  C~\\vert \\\\\n",
    " ~A ~\\vert~ D~  C~  B~\\vert~ E~  F~  G~  H~ \\\\ \n",
    " ~A ~B ~ C~  D~  E~  F~  G~  H~$$\n",
    "\n",
    "**Output:**\n",
    "Secret message: $4$"
   ]
  },
  {
   "cell_type": "code",
   "execution_count": null,
   "metadata": {},
   "outputs": [],
   "source": [
    "from collections import deque\n",
    "\n",
    "class Graph:\n",
    "    def __init__(self, messages):\n",
    "        self.messages = messages\n",
    "        self.len_messages = len(messages)\n",
    "        \n",
    "    def __str__(self):\n",
    "        return str(self.adjacency_list)\n",
    "    \n",
    "    \n",
    "    # The function returns a list of adjacent current state states\n",
    "    def get_neighbors(self, v):\n",
    "        n = len(v)\n",
    "        neighbors = []\n",
    "        # === YOUR CODE === #\n",
    "        for w in self.fragments:\n",
    "            if w[0] == fragment[-1]:\n",
    "            neighbors.append((neighbor, 1))\n",
    "        return neighbors\n",
    "    \n",
    "    # The function finds the path from start \n",
    "    # state to stop state using BFS search\n",
    "    def bfs(self, start, stop):\n",
    "        # === YOUR CODE === #\n",
    "        \n",
    "        parent = {}\n",
    "        # By casting into a string we obtain a series\n",
    "        parent[str(start)] = start\n",
    "        \n",
    "        while len(S) > 0:\n",
    "        # === YOUR CODE === #\n",
    "                \n",
    "            for (m, weight) in self.get_neighbors(n):\n",
    "                if str(m) not in parent:\n",
    "                    # === YOUR CODE === #\n",
    "        \n",
    "        print('The requested path was not found')\n",
    "        return None"
   ]
  },
  {
   "cell_type": "code",
   "execution_count": null,
   "metadata": {},
   "outputs": [],
   "source": [
    "g = Graph()\n",
    "\n",
    "path = g.bfs(['H', 'D', 'F', 'G', 'A', 'E', 'B', 'C'], ['A', 'B', 'C', 'D', 'E', 'F', 'G', 'H'])\n",
    "\n",
    "for state in path:\n",
    "    print(state)\n",
    "\n",
    "print()\n",
    "print('Secret message is: {}'.format(len(path) - 1))"
   ]
  },
  {
   "cell_type": "code",
   "execution_count": 1,
   "metadata": {},
   "outputs": [
    {
     "name": "stdout",
     "output_type": "stream",
     "text": [
      "[1, 2, 3, 4, 5]\n",
      "[5, 4, 3, 2, 1]\n",
      "[]\n",
      "[5, 4]\n"
     ]
    }
   ],
   "source": [
    "list = [1,2,3,4,5]\n",
    "print(list)\n",
    "print(list[::-1])\n",
    "print(list[2:4:-1])\n",
    "print(list[4:2:-1])"
   ]
  },
  {
   "cell_type": "code",
   "execution_count": null,
   "metadata": {},
   "outputs": [],
   "source": []
  }
 ],
 "metadata": {
  "kernelspec": {
   "display_name": "Python 3 (ipykernel)",
   "language": "python",
   "name": "python3"
  },
  "language_info": {
   "codemirror_mode": {
    "name": "ipython",
    "version": 3
   },
   "file_extension": ".py",
   "mimetype": "text/x-python",
   "name": "python",
   "nbconvert_exporter": "python",
   "pygments_lexer": "ipython3",
   "version": "3.8.10"
  }
 },
 "nbformat": 4,
 "nbformat_minor": 4
}
