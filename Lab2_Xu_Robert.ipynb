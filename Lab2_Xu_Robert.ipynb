{
 "cells": [
  {
   "cell_type": "markdown",
   "metadata": {},
   "source": [
    "# Lab assignment 2: Breadth first search"
   ]
  },
  {
   "cell_type": "markdown",
   "metadata": {},
   "source": [
    "It is the year $2119$. The planets of the solar system are divided between two fractions of humans - Earthlings and Martians. The Earth spacecraft was sent to the edge of the Solar System to count the asteroids that threaten to collide with Earth. As Earthlings do not want the Martians to intercept the information, the spacecraft sends the data in encrypted form as a string of $8$ characters. Encryption is performed by sub-string inversions, and the smallest number of inversions required to go from a message character string to a sorted character string is a secret message."
   ]
  },
  {
   "cell_type": "markdown",
   "metadata": {},
   "source": [
    "**Example:**\n",
    "\n",
    "$A~B~C~D~\\vert~H~G~F~E~\\vert~\\rightarrow~A~B~C~D~\\vert~E~F~G~H~\\vert$\n",
    "\n",
    "The minimum number of inversions is $1$, so the secret message is $1$."
   ]
  },
  {
   "cell_type": "markdown",
   "metadata": {},
   "source": [
    "Write a program that uses `Breadth First Search` strategy to reveal a secret message, i.e., the least number of inversions needed to get a sorted character string from the received encrypted message."
   ]
  },
  {
   "cell_type": "markdown",
   "metadata": {},
   "source": [
    "**Input:**\n",
    " $H~  D~\\vert~ F~  G~  A~\\vert~ E~  B~  C$\n",
    "\n",
    "**Inversions (4):**\n",
    "$$\\vert H~  D~  A~\\vert~ G~  F~  E~  B~  C~\\\\\n",
    " ~A ~ D ~\\vert H~  G~  F~  E~  B~  C~\\vert \\\\\n",
    " ~A ~\\vert~ D~  C~  B~\\vert~ E~  F~  G~  H~ \\\\ \n",
    " ~A ~B ~ C~  D~  E~  F~  G~  H~$$\n",
    "\n",
    "**Output:**\n",
    "Secret message: $4$"
   ]
  },
  {
   "cell_type": "code",
   "execution_count": 21,
   "metadata": {},
   "outputs": [
    {
     "data": {
      "text/plain": [
       "[['D', 'H', 'F', 'G', 'A', 'E', 'B', 'C'],\n",
       " ['F', 'D', 'H', 'G', 'A', 'E', 'B', 'C'],\n",
       " ['G', 'F', 'D', 'H', 'A', 'E', 'B', 'C'],\n",
       " ['A', 'G', 'F', 'D', 'H', 'E', 'B', 'C'],\n",
       " ['E', 'A', 'G', 'F', 'D', 'H', 'B', 'C'],\n",
       " ['B', 'E', 'A', 'G', 'F', 'D', 'H', 'C'],\n",
       " ['C', 'B', 'E', 'A', 'G', 'F', 'D', 'H'],\n",
       " ['H', 'A', 'G', 'F', 'D', 'E', 'B', 'C'],\n",
       " ['H', 'B', 'E', 'A', 'G', 'F', 'D', 'C'],\n",
       " ['H', 'C', 'B', 'E', 'A', 'G', 'F', 'D'],\n",
       " ['H', 'D', 'A', 'G', 'F', 'E', 'B', 'C'],\n",
       " ['H', 'D', 'E', 'A', 'G', 'F', 'B', 'C'],\n",
       " ['H', 'D', 'B', 'E', 'A', 'G', 'F', 'C'],\n",
       " ['H', 'D', 'C', 'B', 'E', 'A', 'G', 'F'],\n",
       " ['H', 'D', 'F', 'A', 'G', 'E', 'B', 'C'],\n",
       " ['H', 'D', 'F', 'E', 'A', 'G', 'B', 'C'],\n",
       " ['H', 'D', 'F', 'B', 'E', 'A', 'G', 'C'],\n",
       " ['H', 'D', 'F', 'C', 'B', 'E', 'A', 'G'],\n",
       " ['H', 'D', 'F', 'G', 'A', 'B', 'E', 'C'],\n",
       " ['H', 'D', 'F', 'G', 'A', 'C', 'B', 'E']]"
      ]
     },
     "execution_count": 21,
     "metadata": {},
     "output_type": "execute_result"
    }
   ],
   "source": [
    "def find(message):\n",
    "    n = len(message)\n",
    "    neighbors = []\n",
    "    for i in range(n-1):\n",
    "        for j in range(i+1,n):\n",
    "            if message[i] > message[j]:\n",
    "                s = message[:i]\n",
    "                m = message[i:j+1]\n",
    "                m.reverse()\n",
    "                e = message[j+1:]\n",
    "                neighbor=s+m+e\n",
    "                neighbors.append((neighbor))\n",
    "    return neighbors\n",
    "\n",
    "message = ['H', 'D', 'F', 'G', 'A', 'E', 'B', 'C']\n",
    "find(message)\n"
   ]
  },
  {
   "cell_type": "code",
   "execution_count": 30,
   "metadata": {},
   "outputs": [],
   "source": [
    "from collections import deque\n",
    "\n",
    "class Graph:\n",
    "    \n",
    "    \n",
    "    # The function returns a list of adjacent current state states\n",
    "    def get_neighbors(self, message):\n",
    "        n = len(message)\n",
    "        neighbors = []\n",
    "        # === YOUR CODE === #\n",
    "        for i in range(n-1):\n",
    "            for j in rang(i+1,n):\n",
    "                if message[i] > message[j]:\n",
    "                    s = message[:i]\n",
    "                    m = message[i:j+1]\n",
    "                    m.reverse()\n",
    "                    e = message[j+1:]\n",
    "                    neighbor=s+m+e\n",
    "                    neighbors.append((neighbor))\n",
    "        return neighbors\n",
    "    \n",
    "    # The function finds the path from start \n",
    "    # state to stop state using BFS search\n",
    "    def bfs(self, start, stop):\n",
    "        S = deque() \n",
    "        parent = {}\n",
    "        # By casting into a string we obtain a series\n",
    "        parent[str(start)] = start\n",
    "        \n",
    "        \n",
    "        path_found = False\n",
    "        while len(S) > 0:\n",
    "            state = deque.get()\n",
    "            if state == stop:\n",
    "                path_found = True\n",
    "                break\n",
    "                \n",
    "            for m in self.get_neighbors(n):\n",
    "                if str(m) not in parent:\n",
    "                    S.put(m)\n",
    "                    parent[m] = state\n",
    "                    parent.add(m)\n",
    "     \n",
    "        \n",
    "        print('The requested path was not found')\n",
    "        return None"
   ]
  },
  {
   "cell_type": "code",
   "execution_count": 27,
   "metadata": {},
   "outputs": [],
   "source": [
    "from collections import deque\n",
    "\n",
    "class Graph:\n",
    "    \n",
    "    \n",
    "    # The function returns a list of adjacent current state states\n",
    "    def get_neighbors(self, current_node):\n",
    "        n = len(str(current_node))\n",
    "        neighbors = []\n",
    "        # === YOUR CODE === #\n",
    "        for i in range(n-1):\n",
    "            for j in range(i+1,n):\n",
    "                if current_node[i] > current_node[j]:\n",
    "                    s = current_node[:i]\n",
    "                    m = current_node[i:j+1]\n",
    "                    m.reverse()\n",
    "                    e = current_node[j+1:]\n",
    "                    neighbor=s+m+e\n",
    "                    neighbors.append((neighbor))\n",
    "        return neighbors\n",
    "    \n",
    "    # The function finds the path from start \n",
    "    # state to stop state using BFS search\n",
    "    def bfs(self, start_node, target_node):\n",
    "        visited = set()\n",
    "        queue = deque()\n",
    "\n",
    "    # Add the start_node to the queue and visited list\n",
    "        queue.append(start_node)\n",
    "        visited.add(str(start_node))\n",
    "    \n",
    "    # start_node has not parents\n",
    "        parent = dict()\n",
    "        parent[str(start_node)] = None\n",
    " \n",
    "    # Perform step 3\n",
    "        path = []\n",
    "        path_found = False\n",
    "        while len(queue)>0:\n",
    "            current_node = queue.pop()\n",
    "            path.append(current_node)\n",
    "            if current_node == target_node:\n",
    "                path_found = True\n",
    "                break\n",
    "\n",
    "        for next_node in self.get_neighbors(current_node):\n",
    "            if next_node not in visited:\n",
    "                queue.append(next_node)\n",
    "                visited.add(next_node)\n",
    "                \n",
    "    # Path reconstruction\n",
    "     \n",
    "    "
   ]
  },
  {
   "cell_type": "code",
   "execution_count": 28,
   "metadata": {},
   "outputs": [
    {
     "ename": "IndexError",
     "evalue": "list index out of range",
     "output_type": "error",
     "traceback": [
      "\u001b[0;31m---------------------------------------------------------------------------\u001b[0m",
      "\u001b[0;31mIndexError\u001b[0m                                Traceback (most recent call last)",
      "Cell \u001b[0;32mIn [28], line 3\u001b[0m\n\u001b[1;32m      1\u001b[0m g \u001b[38;5;241m=\u001b[39m Graph()\n\u001b[0;32m----> 3\u001b[0m path \u001b[38;5;241m=\u001b[39m \u001b[43mg\u001b[49m\u001b[38;5;241;43m.\u001b[39;49m\u001b[43mbfs\u001b[49m\u001b[43m(\u001b[49m\u001b[43m[\u001b[49m\u001b[38;5;124;43m'\u001b[39;49m\u001b[38;5;124;43mH\u001b[39;49m\u001b[38;5;124;43m'\u001b[39;49m\u001b[43m,\u001b[49m\u001b[43m \u001b[49m\u001b[38;5;124;43m'\u001b[39;49m\u001b[38;5;124;43mD\u001b[39;49m\u001b[38;5;124;43m'\u001b[39;49m\u001b[43m,\u001b[49m\u001b[43m \u001b[49m\u001b[38;5;124;43m'\u001b[39;49m\u001b[38;5;124;43mF\u001b[39;49m\u001b[38;5;124;43m'\u001b[39;49m\u001b[43m,\u001b[49m\u001b[43m \u001b[49m\u001b[38;5;124;43m'\u001b[39;49m\u001b[38;5;124;43mG\u001b[39;49m\u001b[38;5;124;43m'\u001b[39;49m\u001b[43m,\u001b[49m\u001b[43m \u001b[49m\u001b[38;5;124;43m'\u001b[39;49m\u001b[38;5;124;43mA\u001b[39;49m\u001b[38;5;124;43m'\u001b[39;49m\u001b[43m,\u001b[49m\u001b[43m \u001b[49m\u001b[38;5;124;43m'\u001b[39;49m\u001b[38;5;124;43mE\u001b[39;49m\u001b[38;5;124;43m'\u001b[39;49m\u001b[43m,\u001b[49m\u001b[43m \u001b[49m\u001b[38;5;124;43m'\u001b[39;49m\u001b[38;5;124;43mB\u001b[39;49m\u001b[38;5;124;43m'\u001b[39;49m\u001b[43m,\u001b[49m\u001b[43m \u001b[49m\u001b[38;5;124;43m'\u001b[39;49m\u001b[38;5;124;43mC\u001b[39;49m\u001b[38;5;124;43m'\u001b[39;49m\u001b[43m]\u001b[49m\u001b[43m,\u001b[49m\u001b[43m \u001b[49m\u001b[43m[\u001b[49m\u001b[38;5;124;43m'\u001b[39;49m\u001b[38;5;124;43mA\u001b[39;49m\u001b[38;5;124;43m'\u001b[39;49m\u001b[43m,\u001b[49m\u001b[43m \u001b[49m\u001b[38;5;124;43m'\u001b[39;49m\u001b[38;5;124;43mB\u001b[39;49m\u001b[38;5;124;43m'\u001b[39;49m\u001b[43m,\u001b[49m\u001b[43m \u001b[49m\u001b[38;5;124;43m'\u001b[39;49m\u001b[38;5;124;43mC\u001b[39;49m\u001b[38;5;124;43m'\u001b[39;49m\u001b[43m,\u001b[49m\u001b[43m \u001b[49m\u001b[38;5;124;43m'\u001b[39;49m\u001b[38;5;124;43mD\u001b[39;49m\u001b[38;5;124;43m'\u001b[39;49m\u001b[43m,\u001b[49m\u001b[43m \u001b[49m\u001b[38;5;124;43m'\u001b[39;49m\u001b[38;5;124;43mE\u001b[39;49m\u001b[38;5;124;43m'\u001b[39;49m\u001b[43m,\u001b[49m\u001b[43m \u001b[49m\u001b[38;5;124;43m'\u001b[39;49m\u001b[38;5;124;43mF\u001b[39;49m\u001b[38;5;124;43m'\u001b[39;49m\u001b[43m,\u001b[49m\u001b[43m \u001b[49m\u001b[38;5;124;43m'\u001b[39;49m\u001b[38;5;124;43mG\u001b[39;49m\u001b[38;5;124;43m'\u001b[39;49m\u001b[43m,\u001b[49m\u001b[43m \u001b[49m\u001b[38;5;124;43m'\u001b[39;49m\u001b[38;5;124;43mH\u001b[39;49m\u001b[38;5;124;43m'\u001b[39;49m\u001b[43m]\u001b[49m\u001b[43m)\u001b[49m\n\u001b[1;32m      5\u001b[0m \u001b[38;5;28;01mfor\u001b[39;00m state \u001b[38;5;129;01min\u001b[39;00m path:\n\u001b[1;32m      6\u001b[0m     \u001b[38;5;28mprint\u001b[39m(state)\n",
      "Cell \u001b[0;32mIn [27], line 46\u001b[0m, in \u001b[0;36mGraph.bfs\u001b[0;34m(self, start_node, target_node)\u001b[0m\n\u001b[1;32m     43\u001b[0m         path_found \u001b[38;5;241m=\u001b[39m \u001b[38;5;28;01mTrue\u001b[39;00m\n\u001b[1;32m     44\u001b[0m         \u001b[38;5;28;01mbreak\u001b[39;00m\n\u001b[0;32m---> 46\u001b[0m \u001b[38;5;28;01mfor\u001b[39;00m next_node \u001b[38;5;129;01min\u001b[39;00m \u001b[38;5;28;43mself\u001b[39;49m\u001b[38;5;241;43m.\u001b[39;49m\u001b[43mget_neighbors\u001b[49m\u001b[43m(\u001b[49m\u001b[43mcurrent_node\u001b[49m\u001b[43m)\u001b[49m:\n\u001b[1;32m     47\u001b[0m     \u001b[38;5;28;01mif\u001b[39;00m next_node \u001b[38;5;129;01mnot\u001b[39;00m \u001b[38;5;129;01min\u001b[39;00m visited:\n\u001b[1;32m     48\u001b[0m         queue\u001b[38;5;241m.\u001b[39mappend(next_node)\n",
      "Cell \u001b[0;32mIn [27], line 13\u001b[0m, in \u001b[0;36mGraph.get_neighbors\u001b[0;34m(self, current_node)\u001b[0m\n\u001b[1;32m     11\u001b[0m \u001b[38;5;28;01mfor\u001b[39;00m i \u001b[38;5;129;01min\u001b[39;00m \u001b[38;5;28mrange\u001b[39m(n\u001b[38;5;241m-\u001b[39m\u001b[38;5;241m1\u001b[39m):\n\u001b[1;32m     12\u001b[0m     \u001b[38;5;28;01mfor\u001b[39;00m j \u001b[38;5;129;01min\u001b[39;00m \u001b[38;5;28mrange\u001b[39m(i\u001b[38;5;241m+\u001b[39m\u001b[38;5;241m1\u001b[39m,n):\n\u001b[0;32m---> 13\u001b[0m         \u001b[38;5;28;01mif\u001b[39;00m current_node[i] \u001b[38;5;241m>\u001b[39m \u001b[43mcurrent_node\u001b[49m\u001b[43m[\u001b[49m\u001b[43mj\u001b[49m\u001b[43m]\u001b[49m:\n\u001b[1;32m     14\u001b[0m             s \u001b[38;5;241m=\u001b[39m current_node[:i]\n\u001b[1;32m     15\u001b[0m             m \u001b[38;5;241m=\u001b[39m current_node[i:j\u001b[38;5;241m+\u001b[39m\u001b[38;5;241m1\u001b[39m]\n",
      "\u001b[0;31mIndexError\u001b[0m: list index out of range"
     ]
    }
   ],
   "source": [
    "g = Graph()\n",
    "\n",
    "path = g.bfs(['H', 'D', 'F', 'G', 'A', 'E', 'B', 'C'], ['A', 'B', 'C', 'D', 'E', 'F', 'G', 'H'])\n",
    "\n",
    "for state in path:\n",
    "    print(state)\n",
    "\n",
    "print()\n",
    "print('Secret message is: {}'.format(len(path) - 1))"
   ]
  },
  {
   "cell_type": "code",
   "execution_count": 1,
   "metadata": {},
   "outputs": [
    {
     "name": "stdout",
     "output_type": "stream",
     "text": [
      "[1, 2, 3, 4, 5]\n",
      "[5, 4, 3, 2, 1]\n",
      "[]\n",
      "[5, 4]\n"
     ]
    }
   ],
   "source": [
    "list = [1,2,3,4,5]\n",
    "print(list)\n",
    "print(list[::-1])\n",
    "print(list[2:4:-1])\n",
    "print(list[4:2:-1])"
   ]
  },
  {
   "cell_type": "code",
   "execution_count": null,
   "metadata": {},
   "outputs": [],
   "source": []
  }
 ],
 "metadata": {
  "kernelspec": {
   "display_name": "Python 3 (ipykernel)",
   "language": "python",
   "name": "python3"
  },
  "language_info": {
   "codemirror_mode": {
    "name": "ipython",
    "version": 3
   },
   "file_extension": ".py",
   "mimetype": "text/x-python",
   "name": "python",
   "nbconvert_exporter": "python",
   "pygments_lexer": "ipython3",
   "version": "3.8.10"
  }
 },
 "nbformat": 4,
 "nbformat_minor": 4
}
