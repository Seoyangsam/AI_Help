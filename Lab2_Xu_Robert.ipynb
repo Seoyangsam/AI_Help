{
 "cells": [
  {
   "cell_type": "markdown",
   "metadata": {},
   "source": [
    "# Lab assignment 2: Breadth first search"
   ]
  },
  {
   "cell_type": "markdown",
   "metadata": {},
   "source": [
    "It is the year $2119$. The planets of the solar system are divided between two fractions of humans - Earthlings and Martians. The Earth spacecraft was sent to the edge of the Solar System to count the asteroids that threaten to collide with Earth. As Earthlings do not want the Martians to intercept the information, the spacecraft sends the data in encrypted form as a string of $8$ characters. Encryption is performed by sub-string inversions, and the smallest number of inversions required to go from a message character string to a sorted character string is a secret message."
   ]
  },
  {
   "cell_type": "markdown",
   "metadata": {},
   "source": [
    "**Example:**\n",
    "\n",
    "$A~B~C~D~\\vert~H~G~F~E~\\vert~\\rightarrow~A~B~C~D~\\vert~E~F~G~H~\\vert$\n",
    "\n",
    "The minimum number of inversions is $1$, so the secret message is $1$."
   ]
  },
  {
   "cell_type": "markdown",
   "metadata": {},
   "source": [
    "Write a program that uses `Breadth First Search` strategy to reveal a secret message, i.e., the least number of inversions needed to get a sorted character string from the received encrypted message."
   ]
  },
  {
   "cell_type": "markdown",
   "metadata": {},
   "source": [
    "**Input:**\n",
    " $H~  D~\\vert~ F~  G~  A~\\vert~ E~  B~  C$\n",
    "\n",
    "**Inversions (4):**\n",
    "$$\\vert H~  D~  A~\\vert~ G~  F~  E~  B~  C~\\\\\n",
    " ~A ~ D ~\\vert H~  G~  F~  E~  B~  C~\\vert \\\\\n",
    " ~A ~\\vert~ D~  C~  B~\\vert~ E~  F~  G~  H~ \\\\ \n",
    " ~A ~B ~ C~  D~  E~  F~  G~  H~$$\n",
    "\n",
    "**Output:**\n",
    "Secret message: $4$"
   ]
  },
  {
   "cell_type": "code",
   "execution_count": null,
   "metadata": {},
   "outputs": [],
   "source": [
    "def find(message):\n",
    "    n = len(message)\n",
    "    neighbors = []\n",
    "    for i in range(n):\n",
    "        for j in range(i+1,n):\n",
    "            if message[i] > message[j]:\n",
    "                s = message[:i]\n",
    "                m = message[i:j+1]\n",
    "                m.reverse()\n",
    "                e = message[j+1:]\n",
    "                neighbor=s+m+e\n",
    "                neighbors.append((neighbor))\n",
    "    return neighbors\n",
    "\n",
    "message = ['H', 'D', 'F', 'G', 'A', 'E', 'B', 'C']\n",
    "find(message)\n"
   ]
  },
  {
   "cell_type": "code",
   "execution_count": 1,
   "metadata": {},
   "outputs": [],
   "source": [
    "from collections import deque\n",
    "\n",
    "class Graph:\n",
    "    \n",
    "    \n",
    "    # The function returns a list of adjacent current state states\n",
    "    def get_neighbors(self, message):\n",
    "        n = len(message)\n",
    "        neighbors = []\n",
    "        # === YOUR CODE === #\n",
    "        for i in range(n-1):\n",
    "            for j in range(i+1,n):\n",
    "                if message[i] > message[j]:\n",
    "                    s = message[:i]\n",
    "                    m = message[i:j+1]\n",
    "                    m.reverse()\n",
    "                    e = message[j+1:]\n",
    "                    neighbor=s+m+e\n",
    "                    neighbors.append((neighbor))\n",
    "        return neighbors\n",
    "    \n",
    "    # The function finds the path from start \n",
    "    # state to stop state using BFS search\n",
    "    def bfs(self, start, stop):\n",
    "        S = deque() \n",
    "        parent = {}\n",
    "      \n",
    "        # By casting into a string we obtain a series\n",
    "        parent[str(start)] = start\n",
    "        S.append(start)\n",
    "        \n",
    "        path_found = False\n",
    "        while len(S) > 0:\n",
    "            state = S.pop()\n",
    "            parent[str(state)] = state\n",
    "            if state == stop:\n",
    "                path_found = True\n",
    "                break \n",
    "            \n",
    "            for state in self.get_neighbors(start):\n",
    "                if str(state) not in parent:\n",
    "                    S.append(state)\n",
    "                    parent[str(state)] = state\n",
    "                    \n",
    "        state = stop\n",
    "        path = []\n",
    "        while state is not None:\n",
    "            path.append(state)\n",
    "            state = parent[str(state)]  \n",
    "        path.reverse()    \n",
    "        \n",
    "        return path \n",
    "                    \n",
    "        print('The requested path was not found')\n",
    "        return None"
   ]
  },
  {
   "cell_type": "code",
   "execution_count": 2,
   "metadata": {},
   "outputs": [
    {
     "ename": "KeyError",
     "evalue": "\"['A', 'B', 'C', 'D', 'E', 'F', 'G', 'H']\"",
     "output_type": "error",
     "traceback": [
      "\u001b[0;31m---------------------------------------------------------------------------\u001b[0m",
      "\u001b[0;31mKeyError\u001b[0m                                  Traceback (most recent call last)",
      "Cell \u001b[0;32mIn [2], line 3\u001b[0m\n\u001b[1;32m      1\u001b[0m g \u001b[38;5;241m=\u001b[39m Graph()\n\u001b[0;32m----> 3\u001b[0m path \u001b[38;5;241m=\u001b[39m \u001b[43mg\u001b[49m\u001b[38;5;241;43m.\u001b[39;49m\u001b[43mbfs\u001b[49m\u001b[43m(\u001b[49m\u001b[43m[\u001b[49m\u001b[38;5;124;43m'\u001b[39;49m\u001b[38;5;124;43mH\u001b[39;49m\u001b[38;5;124;43m'\u001b[39;49m\u001b[43m,\u001b[49m\u001b[43m \u001b[49m\u001b[38;5;124;43m'\u001b[39;49m\u001b[38;5;124;43mD\u001b[39;49m\u001b[38;5;124;43m'\u001b[39;49m\u001b[43m,\u001b[49m\u001b[43m \u001b[49m\u001b[38;5;124;43m'\u001b[39;49m\u001b[38;5;124;43mF\u001b[39;49m\u001b[38;5;124;43m'\u001b[39;49m\u001b[43m,\u001b[49m\u001b[43m \u001b[49m\u001b[38;5;124;43m'\u001b[39;49m\u001b[38;5;124;43mG\u001b[39;49m\u001b[38;5;124;43m'\u001b[39;49m\u001b[43m,\u001b[49m\u001b[43m \u001b[49m\u001b[38;5;124;43m'\u001b[39;49m\u001b[38;5;124;43mA\u001b[39;49m\u001b[38;5;124;43m'\u001b[39;49m\u001b[43m,\u001b[49m\u001b[43m \u001b[49m\u001b[38;5;124;43m'\u001b[39;49m\u001b[38;5;124;43mE\u001b[39;49m\u001b[38;5;124;43m'\u001b[39;49m\u001b[43m,\u001b[49m\u001b[43m \u001b[49m\u001b[38;5;124;43m'\u001b[39;49m\u001b[38;5;124;43mB\u001b[39;49m\u001b[38;5;124;43m'\u001b[39;49m\u001b[43m,\u001b[49m\u001b[43m \u001b[49m\u001b[38;5;124;43m'\u001b[39;49m\u001b[38;5;124;43mC\u001b[39;49m\u001b[38;5;124;43m'\u001b[39;49m\u001b[43m]\u001b[49m\u001b[43m,\u001b[49m\u001b[43m \u001b[49m\u001b[43m[\u001b[49m\u001b[38;5;124;43m'\u001b[39;49m\u001b[38;5;124;43mA\u001b[39;49m\u001b[38;5;124;43m'\u001b[39;49m\u001b[43m,\u001b[49m\u001b[43m \u001b[49m\u001b[38;5;124;43m'\u001b[39;49m\u001b[38;5;124;43mB\u001b[39;49m\u001b[38;5;124;43m'\u001b[39;49m\u001b[43m,\u001b[49m\u001b[43m \u001b[49m\u001b[38;5;124;43m'\u001b[39;49m\u001b[38;5;124;43mC\u001b[39;49m\u001b[38;5;124;43m'\u001b[39;49m\u001b[43m,\u001b[49m\u001b[43m \u001b[49m\u001b[38;5;124;43m'\u001b[39;49m\u001b[38;5;124;43mD\u001b[39;49m\u001b[38;5;124;43m'\u001b[39;49m\u001b[43m,\u001b[49m\u001b[43m \u001b[49m\u001b[38;5;124;43m'\u001b[39;49m\u001b[38;5;124;43mE\u001b[39;49m\u001b[38;5;124;43m'\u001b[39;49m\u001b[43m,\u001b[49m\u001b[43m \u001b[49m\u001b[38;5;124;43m'\u001b[39;49m\u001b[38;5;124;43mF\u001b[39;49m\u001b[38;5;124;43m'\u001b[39;49m\u001b[43m,\u001b[49m\u001b[43m \u001b[49m\u001b[38;5;124;43m'\u001b[39;49m\u001b[38;5;124;43mG\u001b[39;49m\u001b[38;5;124;43m'\u001b[39;49m\u001b[43m,\u001b[49m\u001b[43m \u001b[49m\u001b[38;5;124;43m'\u001b[39;49m\u001b[38;5;124;43mH\u001b[39;49m\u001b[38;5;124;43m'\u001b[39;49m\u001b[43m]\u001b[49m\u001b[43m)\u001b[49m\n\u001b[1;32m      5\u001b[0m \u001b[38;5;28;01mfor\u001b[39;00m state \u001b[38;5;129;01min\u001b[39;00m path:\n\u001b[1;32m      6\u001b[0m     \u001b[38;5;28mprint\u001b[39m(state)\n",
      "Cell \u001b[0;32mIn [1], line 49\u001b[0m, in \u001b[0;36mGraph.bfs\u001b[0;34m(self, start, stop)\u001b[0m\n\u001b[1;32m     47\u001b[0m \u001b[38;5;28;01mwhile\u001b[39;00m state \u001b[38;5;129;01mis\u001b[39;00m \u001b[38;5;129;01mnot\u001b[39;00m \u001b[38;5;28;01mNone\u001b[39;00m:\n\u001b[1;32m     48\u001b[0m     path\u001b[38;5;241m.\u001b[39mappend(state)\n\u001b[0;32m---> 49\u001b[0m     state \u001b[38;5;241m=\u001b[39m \u001b[43mparent\u001b[49m\u001b[43m[\u001b[49m\u001b[38;5;28;43mstr\u001b[39;49m\u001b[43m(\u001b[49m\u001b[43mstate\u001b[49m\u001b[43m)\u001b[49m\u001b[43m]\u001b[49m  \n\u001b[1;32m     50\u001b[0m path\u001b[38;5;241m.\u001b[39mreverse()    \n\u001b[1;32m     52\u001b[0m \u001b[38;5;28;01mreturn\u001b[39;00m path \n",
      "\u001b[0;31mKeyError\u001b[0m: \"['A', 'B', 'C', 'D', 'E', 'F', 'G', 'H']\""
     ]
    }
   ],
   "source": [
    "g = Graph()\n",
    "\n",
    "path = g.bfs(['H', 'D', 'F', 'G', 'A', 'E', 'B', 'C'], ['A', 'B', 'C', 'D', 'E', 'F', 'G', 'H'])\n",
    "\n",
    "for state in path:\n",
    "    print(state)\n",
    "\n",
    "print()\n",
    "print('Secret message is: {}'.format(len(path) - 1))"
   ]
  },
  {
   "cell_type": "code",
   "execution_count": null,
   "metadata": {},
   "outputs": [],
   "source": [
    "list = [1,2,3,4,5]\n",
    "print(list)\n",
    "print(list[::-1])\n",
    "print(list[2:4:-1])\n",
    "print(list[4:2:-1])"
   ]
  },
  {
   "cell_type": "code",
   "execution_count": null,
   "metadata": {},
   "outputs": [],
   "source": []
  }
 ],
 "metadata": {
  "kernelspec": {
   "display_name": "Python 3 (ipykernel)",
   "language": "python",
   "name": "python3"
  },
  "language_info": {
   "codemirror_mode": {
    "name": "ipython",
    "version": 3
   },
   "file_extension": ".py",
   "mimetype": "text/x-python",
   "name": "python",
   "nbconvert_exporter": "python",
   "pygments_lexer": "ipython3",
   "version": "3.8.10"
  }
 },
 "nbformat": 4,
 "nbformat_minor": 4
}
