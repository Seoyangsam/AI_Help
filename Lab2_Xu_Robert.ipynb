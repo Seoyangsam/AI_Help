{
 "cells": [
  {
   "cell_type": "markdown",
   "metadata": {},
   "source": [
    "# Lab assignment 2: Breadth first search"
   ]
  },
  {
   "cell_type": "markdown",
   "metadata": {},
   "source": [
    "It is the year $2119$. The planets of the solar system are divided between two fractions of humans - Earthlings and Martians. The Earth spacecraft was sent to the edge of the Solar System to count the asteroids that threaten to collide with Earth. As Earthlings do not want the Martians to intercept the information, the spacecraft sends the data in encrypted form as a string of $8$ characters. Encryption is performed by sub-string inversions, and the smallest number of inversions required to go from a message character string to a sorted character string is a secret message."
   ]
  },
  {
   "cell_type": "markdown",
   "metadata": {},
   "source": [
    "**Example:**\n",
    "\n",
    "$A~B~C~D~\\vert~H~G~F~E~\\vert~\\rightarrow~A~B~C~D~\\vert~E~F~G~H~\\vert$\n",
    "\n",
    "The minimum number of inversions is $1$, so the secret message is $1$."
   ]
  },
  {
   "cell_type": "markdown",
   "metadata": {},
   "source": [
    "Write a program that uses `Breadth First Search` strategy to reveal a secret message, i.e., the least number of inversions needed to get a sorted character string from the received encrypted message."
   ]
  },
  {
   "cell_type": "markdown",
   "metadata": {},
   "source": [
    "**Input:**\n",
    " $H~  D~\\vert~ F~  G~  A~\\vert~ E~  B~  C$\n",
    "\n",
    "**Inversions (4):**\n",
    "$$\\vert H~  D~  A~\\vert~ G~  F~  E~  B~  C~\\\\\n",
    " ~A ~ D ~\\vert H~  G~  F~  E~  B~  C~\\vert \\\\\n",
    " ~A ~\\vert~ D~  C~  B~\\vert~ E~  F~  G~  H~ \\\\ \n",
    " ~A ~B ~ C~  D~  E~  F~  G~  H~$$\n",
    "\n",
    "**Output:**\n",
    "Secret message: $4$"
   ]
  },
  {
   "cell_type": "code",
   "execution_count": 20,
   "metadata": {},
   "outputs": [
    {
     "data": {
      "text/plain": [
       "[['H', 'D', 'F', 'G', 'A', 'E', 'B', 'C'],\n",
       " ['D', 'H', 'F', 'G', 'A', 'E', 'B', 'C'],\n",
       " ['F', 'D', 'H', 'G', 'A', 'E', 'B', 'C'],\n",
       " ['G', 'F', 'D', 'H', 'A', 'E', 'B', 'C'],\n",
       " ['A', 'G', 'F', 'D', 'H', 'E', 'B', 'C'],\n",
       " ['E', 'A', 'G', 'F', 'D', 'H', 'B', 'C'],\n",
       " ['B', 'E', 'A', 'G', 'F', 'D', 'H', 'C'],\n",
       " ['H', 'G', 'F', 'D', 'A', 'E', 'B', 'C'],\n",
       " ['H', 'E', 'A', 'G', 'F', 'D', 'B', 'C'],\n",
       " ['H', 'B', 'E', 'A', 'G', 'F', 'D', 'C'],\n",
       " ['H', 'D', 'G', 'F', 'A', 'E', 'B', 'C'],\n",
       " ['H', 'D', 'A', 'G', 'F', 'E', 'B', 'C'],\n",
       " ['H', 'D', 'E', 'A', 'G', 'F', 'B', 'C'],\n",
       " ['H', 'D', 'B', 'E', 'A', 'G', 'F', 'C'],\n",
       " ['H', 'D', 'F', 'G', 'A', 'E', 'B', 'C'],\n",
       " ['H', 'D', 'F', 'A', 'G', 'E', 'B', 'C'],\n",
       " ['H', 'D', 'F', 'E', 'A', 'G', 'B', 'C'],\n",
       " ['H', 'D', 'F', 'B', 'E', 'A', 'G', 'C'],\n",
       " ['H', 'D', 'F', 'G', 'A', 'E', 'B', 'C'],\n",
       " ['H', 'D', 'F', 'G', 'A', 'B', 'E', 'C']]"
      ]
     },
     "execution_count": 20,
     "metadata": {},
     "output_type": "execute_result"
    }
   ],
   "source": [
    "def find(message):\n",
    "    n = len(message)\n",
    "    neighbors = []\n",
    "    for i in range(n-1):\n",
    "        for j in range(i,n):\n",
    "            if message[i] > message[j]:\n",
    "                s = message[:i]\n",
    "                m = message[i:j]\n",
    "                m.reverse()\n",
    "                e = message[j:]\n",
    "                neighbor=s+m+e\n",
    "                neighbors.append((neighbor))\n",
    "    return neighbors\n",
    "\n",
    "message = ['H', 'D', 'F', 'G', 'A', 'E', 'B', 'C']\n",
    "find(message)\n"
   ]
  },
  {
   "cell_type": "code",
   "execution_count": 13,
   "metadata": {},
   "outputs": [],
   "source": [
    "from collections import deque\n",
    "\n",
    "class Graph:\n",
    "    \n",
    "    \n",
    "    # The function returns a list of adjacent current state states\n",
    "    def get_neighbors(self, message):\n",
    "        n = len(message)\n",
    "        neighbors = []\n",
    "        # === YOUR CODE === #\n",
    "        for i in range(n-1):\n",
    "            for j in range(i+1,n):\n",
    "                if message[i] > message[j]:\n",
    "                    s = message[:i]\n",
    "                    m = message[i:j+1]\n",
    "                    m.reverse()\n",
    "                    e = message[j+1:]\n",
    "                    neighbor=s+m+e\n",
    "                    neighbors.append((neighbor,1))\n",
    "        return neighbors\n",
    "    \n",
    "    # The function finds the path from start \n",
    "    # state to stop state using BFS search\n",
    "    def bfs(self, start, stop):\n",
    "        S = deque() \n",
    "        parent = {}\n",
    "      \n",
    "        # By casting into a string we obtain a series\n",
    "        parent[str(start)] = start\n",
    "        S.append(start)\n",
    "        \n",
    "        path_found = False\n",
    "        while len(S) > 0:\n",
    "            start = S.pop()\n",
    "            \n",
    "            if start == stop:\n",
    "                path_found = True\n",
    "                break \n",
    "            \n",
    "            for (state, weight) in self.get_neighbors(start):\n",
    "                if str(state) not in parent:\n",
    "                    S.append(state)\n",
    "                    parent[str(state)] = start\n",
    "        \n",
    "        start = stop\n",
    "        path = []\n",
    "        while parent[str(start)]!=start:\n",
    "            path.append(start)\n",
    "            start = parent[str(start)] \n",
    "        path.reverse()\n",
    "        return path \n",
    "                    \n",
    "        print('The requested path was not found')\n",
    "        return None"
   ]
  },
  {
   "cell_type": "code",
   "execution_count": 14,
   "metadata": {},
   "outputs": [
    {
     "name": "stdout",
     "output_type": "stream",
     "text": [
      "['H', 'D', 'F', 'G', 'A', 'C', 'B', 'E']\n",
      "['H', 'D', 'F', 'G', 'A', 'B', 'C', 'E']\n",
      "['H', 'D', 'F', 'E', 'C', 'B', 'A', 'G']\n",
      "['H', 'D', 'F', 'E', 'C', 'A', 'B', 'G']\n",
      "['H', 'D', 'F', 'E', 'B', 'A', 'C', 'G']\n",
      "['H', 'D', 'F', 'C', 'A', 'B', 'E', 'G']\n",
      "['H', 'D', 'F', 'A', 'C', 'B', 'E', 'G']\n",
      "['H', 'D', 'E', 'B', 'C', 'A', 'F', 'G']\n",
      "['H', 'D', 'E', 'A', 'C', 'B', 'F', 'G']\n",
      "['H', 'D', 'E', 'A', 'B', 'C', 'F', 'G']\n",
      "['H', 'D', 'C', 'B', 'A', 'E', 'F', 'G']\n",
      "['H', 'A', 'B', 'C', 'D', 'E', 'F', 'G']\n",
      "['G', 'F', 'E', 'D', 'C', 'B', 'A', 'H']\n",
      "['A', 'B', 'C', 'D', 'E', 'F', 'G', 'H']\n",
      "\n",
      "Secret message is: 13\n"
     ]
    }
   ],
   "source": [
    "g = Graph()\n",
    "\n",
    "path = g.bfs(['H', 'D', 'F', 'G', 'A', 'E', 'B', 'C'], ['A', 'B', 'C', 'D', 'E', 'F', 'G', 'H'])\n",
    "\n",
    "for state in path:\n",
    "    print(state)\n",
    "\n",
    "print()\n",
    "print('Secret message is: {}'.format(len(path) - 1))"
   ]
  },
  {
   "cell_type": "code",
   "execution_count": null,
   "metadata": {},
   "outputs": [],
   "source": [
    "list = [1,2,3,4,5]\n",
    "print(list)\n",
    "print(list[::-1])\n",
    "print(list[2:4:-1])\n",
    "print(list[4:2:-1])"
   ]
  },
  {
   "cell_type": "code",
   "execution_count": null,
   "metadata": {},
   "outputs": [],
   "source": []
  }
 ],
 "metadata": {
  "kernelspec": {
   "display_name": "Python 3 (ipykernel)",
   "language": "python",
   "name": "python3"
  },
  "language_info": {
   "codemirror_mode": {
    "name": "ipython",
    "version": 3
   },
   "file_extension": ".py",
   "mimetype": "text/x-python",
   "name": "python",
   "nbconvert_exporter": "python",
   "pygments_lexer": "ipython3",
   "version": "3.8.10"
  }
 },
 "nbformat": 4,
 "nbformat_minor": 4
}
